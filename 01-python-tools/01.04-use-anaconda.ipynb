{
 "cells": [
  {
   "cell_type": "markdown",
   "metadata": {},
   "source": [
    "# conda的使用"
   ]
  },
  {
   "cell_type": "markdown",
   "metadata": {},
   "source": [
    "根据自己的操作系统安装好[Anaconda](https://www.continuum.io/downloads)后,在命令行输入:\n",
    "    conda list\n",
    "安装时若遇到UnicodeDecodeError,这是安装时系统环境变量的问题,具体见[此](https://github.com/conda/conda/issues/5691) "
   ]
  },
  {
   "cell_type": "markdown",
   "metadata": {},
   "source": [
    "可以查看已经安装好的Python第三方工具包,这边可以使用ipython的%%magic来执行此命令:"
   ]
  },
  {
   "cell_type": "code",
   "execution_count": 3,
   "metadata": {},
   "outputs": [
    {
     "name": "stdout",
     "output_type": "stream",
     "text": [
      "# packages in environment at D:\\develop\\anaconda2:\n",
      "#\n",
      "_license                  1.1                      py27_1  \n",
      "alabaster                 0.7.10                   py27_0  \n",
      "anaconda                  4.4.0               np112py27_0  \n",
      "anaconda-client           1.6.3                    py27_0  \n",
      "anaconda-navigator        1.6.2                    py27_0  \n",
      "anaconda-project          0.6.0                    py27_0  \n",
      "asn1crypto                0.22.0                   py27_0  \n",
      "astroid                   1.4.9                    py27_0  \n",
      "astropy                   1.3.2               np112py27_0  \n",
      "babel                     2.4.0                    py27_0  \n",
      "backports                 1.0                      py27_0  \n",
      "backports_abc             0.5                      py27_0  \n",
      "beautifulsoup4            4.6.0                    py27_0  \n",
      "bitarray                  0.8.1                    py27_1  \n",
      "blaze                     0.10.1                   py27_0  \n",
      "bleach                    1.5.0                    py27_0  \n",
      "bokeh                     0.12.5                   py27_1  \n",
      "boto                      2.46.1                   py27_0  \n",
      "bottleneck                1.2.1               np112py27_0  \n",
      "bzip2                     1.0.6                     vc9_3  [vc9]\n",
      "cdecimal                  2.3                      py27_2  \n",
      "cffi                      1.10.0                   py27_0  \n",
      "chardet                   3.0.3                    py27_0  \n",
      "click                     6.7                      py27_0  \n",
      "cloudpickle               0.2.2                    py27_0  \n",
      "clyent                    1.2.2                    py27_0  \n",
      "colorama                  0.3.9                    py27_0  \n",
      "comtypes                  1.1.2                    py27_0  \n",
      "conda                     4.3.23                   py27_0  \n",
      "conda-env                 2.6.0                         0  \n",
      "configparser              3.5.0                    py27_0  \n",
      "console_shortcut          0.1.1                    py27_1  \n",
      "contextlib2               0.5.5                    py27_0  \n",
      "cryptography              1.8.1                    py27_0  \n",
      "curl                      7.52.1                    vc9_0  [vc9]\n",
      "cycler                    0.10.0                   py27_0  \n",
      "cython                    0.25.2                   py27_0  \n",
      "cytoolz                   0.8.2                    py27_0  \n",
      "dask                      0.14.3                   py27_1  \n",
      "datashape                 0.5.4                    py27_0  \n",
      "decorator                 4.0.11                   py27_0  \n",
      "distributed               1.16.3                   py27_0  \n",
      "docutils                  0.13.1                   py27_0  \n",
      "entrypoints               0.2.2                    py27_1  \n",
      "enum34                    1.1.6                    py27_0  \n",
      "et_xmlfile                1.0.1                    py27_0  \n",
      "fastcache                 1.0.2                    py27_1  \n",
      "flask                     0.12.2                   py27_0  \n",
      "flask-cors                3.0.2                    py27_0  \n",
      "freetype                  2.5.5                     vc9_2  [vc9]\n",
      "funcsigs                  1.0.2                    py27_0  \n",
      "functools32               3.2.3.2                  py27_0  \n",
      "futures                   3.1.1                    py27_0  \n",
      "get_terminal_size         1.0.0                    py27_0  \n",
      "gevent                    1.2.1                    py27_0  \n",
      "greenlet                  0.4.12                   py27_0  \n",
      "grin                      1.2.1                    py27_3  \n",
      "h5py                      2.7.0               np112py27_0  \n",
      "hdf5                      1.8.15.1                  vc9_4  [vc9]\n",
      "heapdict                  1.0.0                    py27_1  \n",
      "html5lib                  0.999                    py27_0  \n",
      "icu                       57.1                      vc9_0  [vc9]\n",
      "idna                      2.5                      py27_0  \n",
      "imagesize                 0.7.1                    py27_0  \n",
      "ipaddress                 1.0.18                   py27_0  \n",
      "ipykernel                 4.6.1                    py27_0  \n",
      "ipython                   5.3.0                    py27_0  \n",
      "ipython_genutils          0.2.0                    py27_0  \n",
      "ipywidgets                6.0.0                    py27_0  \n",
      "isort                     4.2.5                    py27_0  \n",
      "itsdangerous              0.24                     py27_0  \n",
      "jdcal                     1.3                      py27_0  \n",
      "jedi                      0.10.2                   py27_2  \n",
      "jinja2                    2.9.6                    py27_0  \n",
      "jpeg                      9b                        vc9_0  [vc9]\n",
      "jsonschema                2.6.0                    py27_0  \n",
      "jupyter                   1.0.0                    py27_3  \n",
      "jupyter_client            5.0.1                    py27_0  \n",
      "jupyter_console           5.1.0                    py27_0  \n",
      "jupyter_core              4.3.0                    py27_0  \n",
      "lazy-object-proxy         1.2.2                    py27_0  \n",
      "libpng                    1.6.27                    vc9_0  [vc9]\n",
      "libtiff                   4.0.6                     vc9_3  [vc9]\n",
      "llvmlite                  0.18.0                   py27_0  \n",
      "locket                    0.2.0                    py27_1  \n",
      "lxml                      3.7.3                    py27_0  \n",
      "markupsafe                0.23                     py27_2  \n",
      "matplotlib                2.0.2               np112py27_0  \n",
      "menuinst                  1.4.7                    py27_0  \n",
      "mistune                   0.7.4                    py27_0  \n",
      "mkl                       2017.0.1                      0  \n",
      "mkl-service               1.1.2                    py27_3  \n",
      "mpmath                    0.19                     py27_1  \n",
      "msgpack-python            0.4.8                    py27_0  \n",
      "multipledispatch          0.4.9                    py27_0  \n",
      "navigator-updater         0.1.0                    py27_0  \n",
      "nbconvert                 5.1.1                    py27_0  \n",
      "nbformat                  4.3.0                    py27_0  \n",
      "networkx                  1.11                     py27_0  \n",
      "nltk                      3.2.3                    py27_0  \n",
      "nose                      1.3.7                    py27_1  \n",
      "notebook                  5.0.0                    py27_0  \n",
      "numba                     0.33.0              np112py27_0  \n",
      "numexpr                   2.6.2               np112py27_0  \n",
      "numpy                     1.12.1                   py27_0  \n",
      "numpydoc                  0.6.0                    py27_0  \n",
      "odo                       0.5.0                    py27_1  \n",
      "olefile                   0.44                     py27_0  \n",
      "openpyxl                  2.4.7                    py27_0  \n",
      "openssl                   1.0.2l                    vc9_0  [vc9]\n",
      "packaging                 16.8                     py27_0  \n",
      "pandas                    0.20.1              np112py27_0  \n",
      "pandocfilters             1.4.1                    py27_0  \n",
      "partd                     0.3.8                    py27_0  \n",
      "path.py                   10.3.1                   py27_0  \n",
      "pathlib2                  2.2.1                    py27_0  \n",
      "patsy                     0.4.1                    py27_0  \n",
      "pep8                      1.7.0                    py27_0  \n",
      "pickleshare               0.7.4                    py27_0  \n",
      "pillow                    4.1.1                    py27_0  \n",
      "pip                       9.0.1                    py27_1  \n",
      "ply                       3.10                     py27_0  \n",
      "prompt_toolkit            1.0.14                   py27_0  \n",
      "psutil                    5.2.2                    py27_0  \n",
      "py                        1.4.33                   py27_0  \n",
      "pycosat                   0.6.2                    py27_0  \n",
      "pycparser                 2.17                     py27_0  \n",
      "pycrypto                  2.6.1                    py27_6  \n",
      "pycurl                    7.43.0                   py27_2  \n",
      "pyflakes                  1.5.0                    py27_0  \n",
      "pygments                  2.2.0                    py27_0  \n",
      "pylint                    1.6.4                    py27_1  \n",
      "pyodbc                    4.0.16                   py27_0  \n",
      "pyopenssl                 17.0.0                   py27_0  \n",
      "pyparsing                 2.1.4                    py27_0  \n",
      "pyqt                      5.6.0                    py27_2  \n",
      "pytables                  3.2.2               np112py27_4  \n",
      "pytest                    3.0.7                    py27_0  \n",
      "python                    2.7.13                        1  \n",
      "python-dateutil           2.6.0                    py27_0  \n",
      "pytz                      2017.2                   py27_0  \n",
      "pywavelets                0.5.2               np112py27_0  \n",
      "pywin32                   220                      py27_2  \n",
      "pyyaml                    3.12                     py27_0  \n",
      "pyzmq                     16.0.2                   py27_0  \n",
      "qt                        5.6.2                     vc9_4  [vc9]\n",
      "qtawesome                 0.4.4                    py27_0  \n",
      "qtconsole                 4.3.0                    py27_0  \n",
      "qtpy                      1.2.1                    py27_0  \n",
      "requests                  2.14.2                   py27_0  \n",
      "rope                      0.9.4                    py27_1  \n",
      "ruamel_yaml               0.11.14                  py27_1  \n",
      "scandir                   1.5                      py27_0  \n",
      "scikit-image              0.13.0              np112py27_0  \n",
      "scikit-learn              0.18.1              np112py27_1  \n",
      "scipy                     0.19.0              np112py27_0  \n",
      "seaborn                   0.7.1                    py27_0  \n",
      "setuptools                27.2.0                   py27_1  \n",
      "simplegeneric             0.8.1                    py27_1  \n",
      "singledispatch            3.4.0.3                  py27_0  \n",
      "sip                       4.18                     py27_0  \n",
      "six                       1.10.0                   py27_0  \n",
      "snowballstemmer           1.2.1                    py27_0  \n",
      "sortedcollections         0.5.3                    py27_0  \n",
      "sortedcontainers          1.5.7                    py27_0  \n",
      "sphinx                    1.5.6                    py27_0  \n",
      "spyder                    3.1.4                    py27_0  \n",
      "sqlalchemy                1.1.9                    py27_0  \n",
      "ssl_match_hostname        3.4.0.2                  py27_1  \n",
      "statsmodels               0.8.0               np112py27_0  \n",
      "subprocess32              3.2.7                    py27_0  \n",
      "sympy                     1.0                      py27_0  \n",
      "tblib                     1.3.2                    py27_0  \n",
      "testpath                  0.3                      py27_0  \n",
      "tk                        8.5.18                    vc9_0  [vc9]\n",
      "toolz                     0.8.2                    py27_0  \n",
      "tornado                   4.5.1                    py27_0  \n",
      "traitlets                 4.3.2                    py27_0  \n",
      "unicodecsv                0.14.1                   py27_0  \n",
      "vs2008_runtime            9.00.30729.5054               0  \n",
      "vs2015_runtime            14.0.25123                    0  \n",
      "wcwidth                   0.1.7                    py27_0  \n",
      "werkzeug                  0.12.2                   py27_0  \n",
      "wheel                     0.29.0                   py27_0  \n",
      "widgetsnbextension        2.0.0                    py27_0  \n",
      "win_unicode_console       0.5                      py27_0  \n",
      "wrapt                     1.10.10                  py27_0  \n",
      "xlrd                      1.0.0                    py27_0  \n",
      "xlsxwriter                0.9.6                    py27_0  \n",
      "xlwings                   0.10.4                   py27_0  \n",
      "xlwt                      1.2.0                    py27_0  \n",
      "zict                      0.1.2                    py27_0  \n",
      "zlib                      1.2.8                     vc9_3  [vc9]\n"
     ]
    }
   ],
   "source": [
    "!conda list"
   ]
  },
  {
   "cell_type": "markdown",
   "metadata": {
    "collapsed": true
   },
   "source": [
    "第一次安装好Anaconda以后,可以在命令行输入一下命令使Anaconda保持最新:"
   ]
  },
  {
   "cell_type": "markdown",
   "metadata": {},
   "source": [
    "    conda update conda\n",
    "    conda update anaconda"
   ]
  },
  {
   "cell_type": "markdown",
   "metadata": {},
   "source": [
    "conda是类似于pip的工具,具体用法可以参考它的[文档](https://conda.io/docs/index.html).\n",
    "也可以参考它的[cheat sheet](file:///D:/develop/conda-cheatsheet.pdf)\n",
    "可以使用它来安装,更新,卸载第三方的Python工具包:"
   ]
  },
  {
   "cell_type": "markdown",
   "metadata": {},
   "source": [
    "    conda install <some package>\n",
    "    conda update <some package>\n",
    "    conda remove <some package>"
   ]
  },
  {
   "cell_type": "markdown",
   "metadata": {},
   "source": [
    "在安装或更新时可以指定安装的版本号,例如需要使用numpy 1.8.1:"
   ]
  },
  {
   "cell_type": "markdown",
   "metadata": {},
   "source": [
    "    conda install numpy=1.8.1\n",
    "    conda update numpy=1.8.1"
   ]
  },
  {
   "cell_type": "markdown",
   "metadata": {},
   "source": [
    "查看conda的信息:"
   ]
  },
  {
   "cell_type": "markdown",
   "metadata": {},
   "source": [
    "    conda info"
   ]
  },
  {
   "cell_type": "code",
   "execution_count": 5,
   "metadata": {},
   "outputs": [
    {
     "name": "stdout",
     "output_type": "stream",
     "text": [
      "Current conda install:\n",
      "\n",
      "               platform : win-32\n",
      "          conda version : 4.3.23\n",
      "       conda is private : False\n",
      "      conda-env version : 4.3.23\n",
      "    conda-build version : not installed\n",
      "         python version : 2.7.13.final.0\n",
      "       requests version : 2.14.2\n",
      "       root environment : D:\\develop\\anaconda2  (writable)\n",
      "    default environment : D:\\develop\\anaconda2\n",
      "       envs directories : D:\\develop\\anaconda2\\envs\n",
      "                          C:\\Users\\Administrator\\AppData\\Local\\conda\\conda\\envs\n",
      "                          C:\\Users\\Administrator\\.conda\\envs\n",
      "          package cache : D:\\develop\\anaconda2\\pkgs\n",
      "                          C:\\Users\\Administrator\\AppData\\Local\\conda\\conda\\pkgs\n",
      "           channel URLs : https://repo.continuum.io/pkgs/free/win-32\n",
      "                          https://repo.continuum.io/pkgs/free/noarch\n",
      "                          https://repo.continuum.io/pkgs/r/win-32\n",
      "                          https://repo.continuum.io/pkgs/r/noarch\n",
      "                          https://repo.continuum.io/pkgs/pro/win-32\n",
      "                          https://repo.continuum.io/pkgs/pro/noarch\n",
      "                          https://repo.continuum.io/pkgs/msys2/win-32\n",
      "                          https://repo.continuum.io/pkgs/msys2/noarch\n",
      "            config file : None\n",
      "             netrc file : None\n",
      "           offline mode : False\n",
      "             user-agent : conda/4.3.23 requests/2.14.2 CPython/2.7.13 Windows/7 Windows/6.1.7601    \n",
      "          administrator : True\n"
     ]
    }
   ],
   "source": [
    "!conda info"
   ]
  },
  {
   "cell_type": "markdown",
   "metadata": {},
   "source": [
    "一个很棒的功能是conda可以产生一个自定义的环境,假设安装的是Python2.7的情况下,使用Python3.4,只需要在命令行下使用conda产生一个新的环境:"
   ]
  },
  {
   "cell_type": "markdown",
   "metadata": {},
   "source": [
    "    conda create -n py34 python=3.4"
   ]
  },
  {
   "cell_type": "markdown",
   "metadata": {},
   "source": [
    "这里这个环境被命名为py34,可以根据喜好将其改为其他名字.\n",
    "使用这个环境时,需要在命令行下输入:"
   ]
  },
  {
   "cell_type": "markdown",
   "metadata": {},
   "source": [
    "    activate py34 #(windows)\n",
    "    source activate py34 #(linux,mac)"
   ]
  },
  {
   "cell_type": "markdown",
   "metadata": {},
   "source": [
    "此时我们使用的环境便是python3.4了,但只含有安装Python的包,若要安装其他package,需要使用conda命令安装."
   ]
  },
  {
   "cell_type": "markdown",
   "metadata": {},
   "source": [
    "如果想要返回原来的Python2.7,需要在命令行下输入:"
   ]
  },
  {
   "cell_type": "markdown",
   "metadata": {},
   "source": [
    "    deactivate py34 #(windows)\n",
    "    source deactivate py34 #(linux,mac)"
   ]
  },
  {
   "cell_type": "markdown",
   "metadata": {},
   "source": [
    "若要删除该环境,则需输入:"
   ]
  },
  {
   "cell_type": "markdown",
   "metadata": {},
   "source": [
    "    conda remove -n py34 python=3.4"
   ]
  },
  {
   "cell_type": "markdown",
   "metadata": {},
   "source": [
    "## spyder编辑器"
   ]
  },
  {
   "cell_type": "markdown",
   "metadata": {},
   "source": [
    "Anaconda默认使用的编辑器是spyder,可以在命令行输入:"
   ]
  },
  {
   "cell_type": "markdown",
   "metadata": {},
   "source": [
    "    Spyder"
   ]
  },
  {
   "cell_type": "markdown",
   "metadata": {},
   "source": [
    "来进入该编辑器,具体方法略."
   ]
  }
 ],
 "metadata": {
  "kernelspec": {
   "display_name": "Python 2",
   "language": "python",
   "name": "python2"
  },
  "language_info": {
   "codemirror_mode": {
    "name": "ipython",
    "version": 2
   },
   "file_extension": ".py",
   "mimetype": "text/x-python",
   "name": "python",
   "nbconvert_exporter": "python",
   "pygments_lexer": "ipython2",
   "version": "2.7.13"
  }
 },
 "nbformat": 4,
 "nbformat_minor": 2
}
