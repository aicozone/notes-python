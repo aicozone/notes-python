{
 "cells": [
  {
   "cell_type": "markdown",
   "metadata": {},
   "source": [
    "# marakdown插入表格语法"
   ]
  },
  {
   "cell_type": "markdown",
   "metadata": {},
   "source": [
    "## 例子"
   ]
  },
  {
   "cell_type": "markdown",
   "metadata": {},
   "source": [
    "1.| 一个普通标题 | 一个普通标题 | 一个普通标题 |  \n",
    "2.| ------| ------ | ------ |  \n",
    "3.| 短文本 | 中等文本 | 稍微长一点的文本 |  \n",
    "4.| 稍微长一点的文本 | 短文本 | 中等文本 |  "
   ]
  },
  {
   "cell_type": "markdown",
   "metadata": {},
   "source": [
    "| 一个普通标题 | 一个普通标题 | 一个普通标题 |\n",
    "| ------| ------ | ------ |\n",
    "| 短文本 | 中等文本 | 稍微长一点的文本 |\n",
    "| 稍微长一点的文本 | 短文本 | 中等文本 |"
   ]
  },
  {
   "cell_type": "markdown",
   "metadata": {},
   "source": [
    "1.| 左对齐标题 | 右对齐标题 | 居中对齐标题 |  \n",
    "2.| :------| ------: | :------: |  \n",
    "3.| 短文本 | 中等文本 | 稍微长一点的文本 |  \n",
    "4.| 稍微长一点的文本 | 短文本 | 中等文本 |  "
   ]
  },
  {
   "cell_type": "markdown",
   "metadata": {},
   "source": [
    "| 左对齐标题 | 右对齐标题 | 居中对齐标题 |\n",
    "| :------| ------: | :------: |\n",
    "| 短文本 | 中等文本 | 稍微长一点的文本 |\n",
    "| 稍微长一点的文本 | 短文本 | 中等文本 |"
   ]
  },
  {
   "cell_type": "markdown",
   "metadata": {},
   "source": [
    "## 语法说明"
   ]
  },
  {
   "cell_type": "markdown",
   "metadata": {},
   "source": [
    "\n",
    "    |、-、:之间的多余空格会被忽略，不影响布局。\n",
    "    默认标题栏居中对齐，内容居左对齐。\n",
    "    -:表示内容和标题栏居右对齐，:-表示内容和标题栏居左对齐，:-:表示内容和标题栏居中对齐。\n",
    "    内容和|之间的多余空格会被忽略，每行第一个|和最后一个|可以省略，-的数量至少有一个。\n"
   ]
  }
 ],
 "metadata": {
  "kernelspec": {
   "display_name": "Python 2",
   "language": "python",
   "name": "python2"
  },
  "language_info": {
   "codemirror_mode": {
    "name": "ipython",
    "version": 2
   },
   "file_extension": ".py",
   "mimetype": "text/x-python",
   "name": "python",
   "nbconvert_exporter": "python",
   "pygments_lexer": "ipython2",
   "version": "2.7.13"
  }
 },
 "nbformat": 4,
 "nbformat_minor": 2
}
