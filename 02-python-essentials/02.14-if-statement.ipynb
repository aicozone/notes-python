{
 "cells": [
  {
   "cell_type": "markdown",
   "metadata": {},
   "source": [
    "# 判断语句"
   ]
  },
  {
   "cell_type": "markdown",
   "metadata": {},
   "source": [
    "## 基本用法"
   ]
  },
  {
   "cell_type": "markdown",
   "metadata": {},
   "source": [
    "判断,基于一定的条件,决定是否要执行特定的一段代码,例如判断一个数是不是正数:"
   ]
  },
  {
   "cell_type": "code",
   "execution_count": 1,
   "metadata": {},
   "outputs": [
    {
     "name": "stdout",
     "output_type": "stream",
     "text": [
      "Hey!\n",
      "x is positive\n"
     ]
    }
   ],
   "source": [
    "x = 0.5\n",
    "if x > 0:\n",
    "    print 'Hey!'\n",
    "    print 'x is positive'"
   ]
  },
  {
   "cell_type": "markdown",
   "metadata": {},
   "source": [
    "在这里,如果x > 0 为False,那么程序不会执行两条print语句."
   ]
  },
  {
   "cell_type": "markdown",
   "metadata": {},
   "source": [
    "虽然都是用if关键词定义判断,但与C,Java等语言不同,Python不使用{}将if语句控制的区域包含起来.Python使用的是缩进方法.同时,也不需要用()将判断条件括起来."
   ]
  },
  {
   "cell_type": "markdown",
   "metadata": {},
   "source": [
    "上面例子中的这两条语句:  \n",
    "    print 'Hey!'  \n",
    "    print 'x is positive'  "
   ]
  },
  {
   "cell_type": "markdown",
   "metadata": {},
   "source": [
    "就叫做一个代码块,同一个代码块使用同样的缩进值,它们组成了这条if语句的主体."
   ]
  },
  {
   "cell_type": "markdown",
   "metadata": {},
   "source": [
    "不同的缩进值表示不同的代码块,例如:  \n",
    "x > 0 时:"
   ]
  },
  {
   "cell_type": "code",
   "execution_count": 2,
   "metadata": {},
   "outputs": [
    {
     "name": "stdout",
     "output_type": "stream",
     "text": [
      "Hey!\n",
      "x is positive\n",
      "This is still part of the block\n",
      "This is not part of the block, and will always print.\n"
     ]
    }
   ],
   "source": [
    "x = 0.5\n",
    "if x > 0:\n",
    "    print 'Hey!'\n",
    "    print 'x is positive'\n",
    "    print 'This is still part of the block'\n",
    "print 'This is not part of the block, and will always print.'"
   ]
  },
  {
   "cell_type": "markdown",
   "metadata": {},
   "source": [
    "x < 0 时:"
   ]
  },
  {
   "cell_type": "code",
   "execution_count": 3,
   "metadata": {},
   "outputs": [
    {
     "name": "stdout",
     "output_type": "stream",
     "text": [
      "This is not part of the block, and will always print.\n"
     ]
    }
   ],
   "source": [
    "x = -0.5\n",
    "if x > 0:\n",
    "    print 'Hey!'\n",
    "    print 'x is positive'\n",
    "    print 'This is still part of the block'\n",
    "print 'This is not part of the block, and will always print.'"
   ]
  },
  {
   "cell_type": "markdown",
   "metadata": {},
   "source": [
    "在这两个例子中,最后一句并不是if语句中的内容,所以不管条件满不满足,它都会被执行."
   ]
  },
  {
   "cell_type": "markdown",
   "metadata": {},
   "source": [
    "一个完整的if结构通常如下所示(注意:条件后的:是必须要的,缩进值需要一样):  \n",
    "    > if  <condition 1>:  \n",
    "        >> <statement 1>\n",
    "        >> <statement 2>  \n",
    "    > elif <condition 2>:  \n",
    "        >> <statements>\n",
    "    > else:\n",
    "        >> <statements>"
   ]
  },
  {
   "cell_type": "markdown",
   "metadata": {},
   "source": [
    "当条件1被满足时,执行if下面的语句,当条件1不满足的时候,转到elif语句,看它的条件是否满足,若不满足的话,转到下面的else语句"
   ]
  },
  {
   "cell_type": "markdown",
   "metadata": {},
   "source": [
    "对上面的例子进行扩展:"
   ]
  },
  {
   "cell_type": "code",
   "execution_count": 5,
   "metadata": {},
   "outputs": [
    {
     "name": "stdout",
     "output_type": "stream",
     "text": [
      "x is zero\n"
     ]
    }
   ],
   "source": [
    "x = 0\n",
    "if x > 0:\n",
    "    print 'x is positive'\n",
    "elif x == 0:\n",
    "    print 'x is zero'\n",
    "else:\n",
    "    print 'x is negative'"
   ]
  },
  {
   "cell_type": "markdown",
   "metadata": {},
   "source": [
    "elif的个数没有限制,可以是一个或者多个,也可以没有."
   ]
  },
  {
   "cell_type": "markdown",
   "metadata": {},
   "source": [
    "else最多只有一个,也可以没有."
   ]
  },
  {
   "cell_type": "markdown",
   "metadata": {},
   "source": [
    "可以使用and,or,not等关键词结合多个判断条件:"
   ]
  },
  {
   "cell_type": "code",
   "execution_count": 7,
   "metadata": {},
   "outputs": [
    {
     "data": {
      "text/plain": [
       "True"
      ]
     },
     "execution_count": 7,
     "metadata": {},
     "output_type": "execute_result"
    }
   ],
   "source": [
    "x = 10\n",
    "y = -5\n",
    "x > 0 and y < 0"
   ]
  },
  {
   "cell_type": "code",
   "execution_count": 8,
   "metadata": {},
   "outputs": [
    {
     "data": {
      "text/plain": [
       "False"
      ]
     },
     "execution_count": 8,
     "metadata": {},
     "output_type": "execute_result"
    }
   ],
   "source": [
    "not x > 0"
   ]
  },
  {
   "cell_type": "code",
   "execution_count": 9,
   "metadata": {},
   "outputs": [
    {
     "data": {
      "text/plain": [
       "True"
      ]
     },
     "execution_count": 9,
     "metadata": {},
     "output_type": "execute_result"
    }
   ],
   "source": [
    "x < 0 or y < 0"
   ]
  },
  {
   "cell_type": "markdown",
   "metadata": {},
   "source": [
    "这里使用这个简单的例子,假如想判断一个年份是不是闰年,这里只需要判断这个年份是不是能被4整除,但是不能被100整除,或者正好被400整除:"
   ]
  },
  {
   "cell_type": "code",
   "execution_count": 10,
   "metadata": {},
   "outputs": [
    {
     "name": "stdout",
     "output_type": "stream",
     "text": [
      "This is not a leap year\n"
     ]
    }
   ],
   "source": [
    "year = 1900\n",
    "if year % 400 == 0:\n",
    "    print 'This is a leap year'\n",
    "#两个条件都满足才执行\n",
    "elif year % 4 == 0 and year % 100 != 0:\n",
    "    print 'This is a leap year'\n",
    "else:\n",
    "    print 'This is not a leap year'"
   ]
  },
  {
   "cell_type": "markdown",
   "metadata": {},
   "source": [
    "## 值的测试"
   ]
  },
  {
   "cell_type": "markdown",
   "metadata": {},
   "source": [
    "Python不仅仅可以使用布尔型变量作为条件,它可以直接在if中使用任何表达式作为条件:"
   ]
  },
  {
   "cell_type": "markdown",
   "metadata": {},
   "source": [
    "大部分表达式的值都会被当做True,但以下表达式值会被当做False:  \n",
    "- False\n",
    "- None\n",
    "- 0\n",
    "- 空字符串,空列表,空字典,空集合"
   ]
  },
  {
   "cell_type": "code",
   "execution_count": 11,
   "metadata": {},
   "outputs": [
    {
     "name": "stdout",
     "output_type": "stream",
     "text": [
      "The first element is : 3\n"
     ]
    }
   ],
   "source": [
    "mylist = [3, 1, 4, 1, 5, 9]\n",
    "if mylist:\n",
    "    print 'The first element is :', mylist[0]\n",
    "else:\n",
    "    print 'There is no first element.'"
   ]
  },
  {
   "cell_type": "markdown",
   "metadata": {},
   "source": [
    "修改为空列表:"
   ]
  },
  {
   "cell_type": "code",
   "execution_count": 12,
   "metadata": {},
   "outputs": [
    {
     "name": "stdout",
     "output_type": "stream",
     "text": [
      "There is no first element.\n"
     ]
    }
   ],
   "source": [
    "mylist = []\n",
    "if mylist:\n",
    "    print 'The first element is :', mylist[0]\n",
    "else:\n",
    "    print 'There is no first element.'"
   ]
  },
  {
   "cell_type": "markdown",
   "metadata": {},
   "source": [
    "当然这种用法并不太推介,推介使用if len(mylist) > 0:来判断一个列表是否为空"
   ]
  }
 ],
 "metadata": {
  "kernelspec": {
   "display_name": "Python 2",
   "language": "python",
   "name": "python2"
  },
  "language_info": {
   "codemirror_mode": {
    "name": "ipython",
    "version": 2
   },
   "file_extension": ".py",
   "mimetype": "text/x-python",
   "name": "python",
   "nbconvert_exporter": "python",
   "pygments_lexer": "ipython2",
   "version": "2.7.13"
  }
 },
 "nbformat": 4,
 "nbformat_minor": 2
}
