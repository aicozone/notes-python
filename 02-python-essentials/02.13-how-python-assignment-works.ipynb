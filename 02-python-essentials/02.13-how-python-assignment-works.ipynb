{
 "cells": [
  {
   "cell_type": "markdown",
   "metadata": {},
   "source": [
    "# Python赋值机制"
   ]
  },
  {
   "cell_type": "markdown",
   "metadata": {},
   "source": [
    "先看一个例子:"
   ]
  },
  {
   "cell_type": "code",
   "execution_count": 1,
   "metadata": {},
   "outputs": [
    {
     "name": "stdout",
     "output_type": "stream",
     "text": [
      "[1, 100, 3]\n"
     ]
    }
   ],
   "source": [
    "x = [1, 2, 3]\n",
    "y = x\n",
    "x[1] = 100\n",
    "print y"
   ]
  },
  {
   "cell_type": "markdown",
   "metadata": {},
   "source": [
    "改变变量x的值,变量y的值也随着改变,这与Python内部的赋值机制有关."
   ]
  },
  {
   "cell_type": "markdown",
   "metadata": {},
   "source": [
    "## 简单类型"
   ]
  },
  {
   "cell_type": "markdown",
   "metadata": {},
   "source": [
    "先来看这一段代码在Python中的执行过程."
   ]
  },
  {
   "cell_type": "markdown",
   "metadata": {},
   "source": [
    "    x = 500\n",
    "    y = x\n",
    "    y = 'foo'"
   ]
  },
  {
   "cell_type": "markdown",
   "metadata": {},
   "source": [
    "    x = 500  \n",
    "Python分配了一个pyint大小的内存pos1用来储存对象500,然后,Python在命名空间中让变量x指向了这一块内存,注意,整数是不可变类型,所以这块内存的内容是不可变的."
   ]
  },
  {
   "cell_type": "markdown",
   "metadata": {},
   "source": [
    "|内存|命名空间|\n",
    "|----|----|\n",
    "|pos1 : Pyint(500)(不可变)|x:pos1|"
   ]
  },
  {
   "cell_type": "markdown",
   "metadata": {},
   "source": [
    "    y = x\n",
    "Python并没有使用新的内存来储存变量y的值,而是在命名空间中,让变量y与变量x指向了同一块内存空间"
   ]
  },
  {
   "cell_type": "markdown",
   "metadata": {},
   "source": [
    "|内存|命名空间|\n",
    "|---|---|\n",
    "|pos1:Pyint(500)(不可变)|x:pos1  y:pos1|"
   ]
  },
  {
   "cell_type": "markdown",
   "metadata": {},
   "source": [
    "    y = 'foo'\n",
    "Python此时分配一个PyStr大小的内存pos2来储存对象foo,然后改变变量y所指的对象.    "
   ]
  },
  {
   "cell_type": "markdown",
   "metadata": {},
   "source": [
    "|内存|命名空间|\n",
    "|---|---|\n",
    "|pos1:Pyint(500)(不可变)|x:pos1|\n",
    "|pos2:PyStr('foo\")(不可变)|y:pos2|"
   ]
  },
  {
   "cell_type": "markdown",
   "metadata": {},
   "source": [
    "对这一过程进行验证,可以使用id函数."
   ]
  },
  {
   "cell_type": "markdown",
   "metadata": {},
   "source": [
    "    id(x)"
   ]
  },
  {
   "cell_type": "markdown",
   "metadata": {},
   "source": [
    "返回变量x的内存地址."
   ]
  },
  {
   "cell_type": "code",
   "execution_count": 2,
   "metadata": {},
   "outputs": [
    {
     "data": {
      "text/plain": [
       "43934752"
      ]
     },
     "execution_count": 2,
     "metadata": {},
     "output_type": "execute_result"
    }
   ],
   "source": [
    "x = 500\n",
    "id(x)"
   ]
  },
  {
   "cell_type": "code",
   "execution_count": 3,
   "metadata": {},
   "outputs": [
    {
     "data": {
      "text/plain": [
       "43934752"
      ]
     },
     "execution_count": 3,
     "metadata": {},
     "output_type": "execute_result"
    }
   ],
   "source": [
    "y = x\n",
    "id(y)"
   ]
  },
  {
   "cell_type": "markdown",
   "metadata": {},
   "source": [
    "也可以使用is来判断是不是指向同一个事物:"
   ]
  },
  {
   "cell_type": "code",
   "execution_count": 4,
   "metadata": {},
   "outputs": [
    {
     "data": {
      "text/plain": [
       "True"
      ]
     },
     "execution_count": 4,
     "metadata": {},
     "output_type": "execute_result"
    }
   ],
   "source": [
    "x is y"
   ]
  },
  {
   "cell_type": "markdown",
   "metadata": {},
   "source": [
    "现在y指向另一块内存:"
   ]
  },
  {
   "cell_type": "code",
   "execution_count": 5,
   "metadata": {},
   "outputs": [
    {
     "data": {
      "text/plain": [
       "43182632"
      ]
     },
     "execution_count": 5,
     "metadata": {},
     "output_type": "execute_result"
    }
   ],
   "source": [
    "y = 'foo'\n",
    "id(y)"
   ]
  },
  {
   "cell_type": "code",
   "execution_count": 6,
   "metadata": {},
   "outputs": [
    {
     "data": {
      "text/plain": [
       "False"
      ]
     },
     "execution_count": 6,
     "metadata": {},
     "output_type": "execute_result"
    }
   ],
   "source": [
    "x is y"
   ]
  },
  {
   "cell_type": "markdown",
   "metadata": {},
   "source": [
    "Python会为每个出现的对象进行赋值,哪怕它们的值是一样的,例如:"
   ]
  },
  {
   "cell_type": "code",
   "execution_count": 7,
   "metadata": {},
   "outputs": [
    {
     "data": {
      "text/plain": [
       "43933220"
      ]
     },
     "execution_count": 7,
     "metadata": {},
     "output_type": "execute_result"
    }
   ],
   "source": [
    "x = 500\n",
    "id(x)"
   ]
  },
  {
   "cell_type": "code",
   "execution_count": 8,
   "metadata": {},
   "outputs": [
    {
     "data": {
      "text/plain": [
       "43934752"
      ]
     },
     "execution_count": 8,
     "metadata": {},
     "output_type": "execute_result"
    }
   ],
   "source": [
    "y = 500\n",
    "id(y)"
   ]
  },
  {
   "cell_type": "code",
   "execution_count": 9,
   "metadata": {},
   "outputs": [
    {
     "data": {
      "text/plain": [
       "False"
      ]
     },
     "execution_count": 9,
     "metadata": {},
     "output_type": "execute_result"
    }
   ],
   "source": [
    "x is y"
   ]
  },
  {
   "cell_type": "markdown",
   "metadata": {},
   "source": [
    "不过,为了提高内存利用效率,对于一些简单的对象,如一些数值较小的int对象,Python采用了重用对象内存的方法"
   ]
  },
  {
   "cell_type": "code",
   "execution_count": 10,
   "metadata": {},
   "outputs": [
    {
     "data": {
      "text/plain": [
       "35257652"
      ]
     },
     "execution_count": 10,
     "metadata": {},
     "output_type": "execute_result"
    }
   ],
   "source": [
    "x = 2\n",
    "id(x)"
   ]
  },
  {
   "cell_type": "code",
   "execution_count": 11,
   "metadata": {},
   "outputs": [
    {
     "data": {
      "text/plain": [
       "35257652"
      ]
     },
     "execution_count": 11,
     "metadata": {},
     "output_type": "execute_result"
    }
   ],
   "source": [
    "y = 2\n",
    "id(y)"
   ]
  },
  {
   "cell_type": "code",
   "execution_count": 12,
   "metadata": {},
   "outputs": [
    {
     "data": {
      "text/plain": [
       "True"
      ]
     },
     "execution_count": 12,
     "metadata": {},
     "output_type": "execute_result"
    }
   ],
   "source": [
    "x is y"
   ]
  },
  {
   "cell_type": "markdown",
   "metadata": {},
   "source": [
    "## 容器类型"
   ]
  },
  {
   "cell_type": "markdown",
   "metadata": {},
   "source": [
    "现在来看另一段代码:  \n",
    "    x = [500, 501, 502]  \n",
    "    y = x  \n",
    "    y[1] = 600  \n",
    "    y = [700, 800]"
   ]
  },
  {
   "cell_type": "markdown",
   "metadata": {},
   "source": [
    "x = [500, 501, 502]\n"
   ]
  },
  {
   "cell_type": "markdown",
   "metadata": {},
   "source": [
    "Python为3个pyint分配内存pos1,pos2,pos3(不可变),然后为列表分配内存pos4,它包含3个位置,分别指向这3个内存,最后再让变量x指向这个列表."
   ]
  },
  {
   "cell_type": "markdown",
   "metadata": {},
   "source": [
    "|内存|命名空间|\n",
    "|---|---|\n",
    "|pos1:PyInt(500)(不可变)|x:pos4|\n",
    "|pos2:PyInt(501)(不可变)|\n",
    "|pos3:PyInt(502)(不可变)|\n",
    "|pos4:PyList(pos1,pos2,pos3)(可变)|"
   ]
  },
  {
   "cell_type": "markdown",
   "metadata": {},
   "source": [
    "y = x  \n",
    "并没有创建新的对象,只需要将y指向pos4即可."
   ]
  },
  {
   "cell_type": "markdown",
   "metadata": {},
   "source": [
    "|内存|命名空间|\n",
    "|---|---|\n",
    "|pos1:PyInt(500)(不可变)|x:pos4|\n",
    "|pos2:PyInt(501)(不可变)|y:pos4|\n",
    "|pos3:PyInt(502)(不可变)|\n",
    "|pos4:PyList(pos1,pos2,pos3)(可变)|"
   ]
  },
  {
   "cell_type": "markdown",
   "metadata": {},
   "source": [
    "y[1] = 600  \n",
    "原来y[1]这个位置指向的是pos2,由于不能修改pos2的值,所以首先为600分配新内存pos5.  \n",
    "再把y[1]指向的位置修改为pos5.此时,由于pos2位置的对象已经没有用了,Python会自动调用垃圾处理机制将它回收."
   ]
  },
  {
   "cell_type": "markdown",
   "metadata": {},
   "source": [
    "|内存|命名空间|\n",
    "|---|---|\n",
    "|pos1:PyInt(500)(不可变)|x:pos4|\n",
    "|pos2:垃圾回收|y:pos4|\n",
    "|pos3:PyInt(502)(不可变)|\n",
    "|pos4:PyList(pos1,pos5,pos3)(可变)|\n",
    "|pos5:PyInt(600)(不可变)|"
   ]
  },
  {
   "cell_type": "markdown",
   "metadata": {},
   "source": [
    "y = [700, 800]  \n",
    "首先创建这个列表,然后将变量y指向它."
   ]
  },
  {
   "cell_type": "markdown",
   "metadata": {},
   "source": [
    "|内存|命名空间|\n",
    "|---|---|\n",
    "|pos1:PyInt(500)(不可变)|x:pos4|\n",
    "|pos3:PyInt(502)(不可变)|\n",
    "|pos4:PyList(pos1,pos5,pos3)(可变)|\n",
    "|pos5:PyInt(600)(不可变)|\n",
    "|pos6:PyInt(700)(不可变)|\n",
    "|pos7:PyInt(800)(不可变)|\n",
    "|pos8:PyList(pos6, pos7)(可变)|y:pos8|"
   ]
  },
  {
   "cell_type": "markdown",
   "metadata": {},
   "source": [
    "对这一过程进行验证:"
   ]
  },
  {
   "cell_type": "code",
   "execution_count": 13,
   "metadata": {},
   "outputs": [
    {
     "name": "stdout",
     "output_type": "stream",
     "text": [
      "43931172\n",
      "43933220\n",
      "50453084\n",
      "61631344\n"
     ]
    }
   ],
   "source": [
    "x = [500, 501, 502]\n",
    "print id(x[0])\n",
    "print id(x[1])\n",
    "print id(x[2])\n",
    "print id(x)"
   ]
  },
  {
   "cell_type": "markdown",
   "metadata": {},
   "source": [
    "赋值,id(y)与id(x)相同."
   ]
  },
  {
   "cell_type": "code",
   "execution_count": 14,
   "metadata": {},
   "outputs": [
    {
     "data": {
      "text/plain": [
       "61631344"
      ]
     },
     "execution_count": 14,
     "metadata": {},
     "output_type": "execute_result"
    }
   ],
   "source": [
    "y = x\n",
    "id(y)"
   ]
  },
  {
   "cell_type": "code",
   "execution_count": 15,
   "metadata": {},
   "outputs": [
    {
     "data": {
      "text/plain": [
       "True"
      ]
     },
     "execution_count": 15,
     "metadata": {},
     "output_type": "execute_result"
    }
   ],
   "source": [
    "x is y"
   ]
  },
  {
   "cell_type": "markdown",
   "metadata": {},
   "source": [
    "修改y[1], id(y)并不改变."
   ]
  },
  {
   "cell_type": "code",
   "execution_count": 16,
   "metadata": {},
   "outputs": [
    {
     "name": "stdout",
     "output_type": "stream",
     "text": [
      "61631344\n"
     ]
    }
   ],
   "source": [
    "y[1] = 600\n",
    "print id(y)"
   ]
  },
  {
   "cell_type": "markdown",
   "metadata": {},
   "source": [
    "id(x[1])和id(y[1])的值改变了"
   ]
  },
  {
   "cell_type": "code",
   "execution_count": 17,
   "metadata": {},
   "outputs": [
    {
     "name": "stdout",
     "output_type": "stream",
     "text": [
      "50451252\n",
      "50451252\n"
     ]
    }
   ],
   "source": [
    "print id(x[1])\n",
    "print id(y[1])"
   ]
  },
  {
   "cell_type": "markdown",
   "metadata": {},
   "source": [
    "改变y的值,id(y)的值改变"
   ]
  },
  {
   "cell_type": "code",
   "execution_count": 18,
   "metadata": {},
   "outputs": [
    {
     "name": "stdout",
     "output_type": "stream",
     "text": [
      "62620336\n",
      "61631344\n"
     ]
    }
   ],
   "source": [
    "y = [700, 800]\n",
    "print id(y)\n",
    "print id(x)"
   ]
  }
 ],
 "metadata": {
  "kernelspec": {
   "display_name": "Python 2",
   "language": "python",
   "name": "python2"
  },
  "language_info": {
   "codemirror_mode": {
    "name": "ipython",
    "version": 2
   },
   "file_extension": ".py",
   "mimetype": "text/x-python",
   "name": "python",
   "nbconvert_exporter": "python",
   "pygments_lexer": "ipython2",
   "version": "2.7.13"
  }
 },
 "nbformat": 4,
 "nbformat_minor": 2
}
